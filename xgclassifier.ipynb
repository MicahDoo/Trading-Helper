{
 "cells": [
  {
   "cell_type": "markdown",
   "metadata": {},
   "source": [
    "## Import Libraries"
   ]
  },
  {
   "cell_type": "code",
   "execution_count": 1,
   "metadata": {},
   "outputs": [
    {
     "name": "stderr",
     "output_type": "stream",
     "text": [
      "/opt/anaconda3/envs/python3_8/lib/python3.8/site-packages/xgboost/compat.py:36: FutureWarning: pandas.Int64Index is deprecated and will be removed from pandas in a future version. Use pandas.Index with the appropriate dtype instead.\n",
      "  from pandas import MultiIndex, Int64Index\n"
     ]
    }
   ],
   "source": [
    "# Standard libraries\n",
    "import pandas as pd\n",
    "import numpy as np\n",
    "\n",
    "# sklearn\n",
    "from sklearn.model_selection import train_test_split\n",
    "from sklearn.model_selection import GridSearchCV\n",
    "from sklearn.model_selection import RandomizedSearchCV\n",
    "\n",
    "# xgboost\n",
    "from xgboost import XGBClassifier\n",
    "\n",
    "# talib\n",
    "from talib import BBANDS\n",
    "from talib import SAR\n",
    "from talib import RSI\n",
    "from talib import STOCH\n",
    "from talib import EMA\n",
    "from talib import WILLR"
   ]
  },
  {
   "cell_type": "markdown",
   "metadata": {},
   "source": [
    "## Data Import"
   ]
  },
  {
   "cell_type": "code",
   "execution_count": 2,
   "metadata": {},
   "outputs": [
    {
     "data": {
      "text/plain": [
       "20"
      ]
     },
     "execution_count": 2,
     "metadata": {},
     "output_type": "execute_result"
    }
   ],
   "source": [
    "train_df = pd.read_csv(\"training.csv\", names=(\"open\", \"high\", \"low\", \"close\"))\n",
    "test_df = pd.read_csv(\"testing.csv\", names=(\"open\", \"high\", \"low\", \"close\"))\n",
    "len(test_df)"
   ]
  },
  {
   "cell_type": "code",
   "execution_count": 3,
   "metadata": {},
   "outputs": [],
   "source": [
    "n_days_in = 20\n",
    "n_days_out = len(test_df)"
   ]
  },
  {
   "cell_type": "markdown",
   "metadata": {},
   "source": [
    "## Data Preprocessing"
   ]
  },
  {
   "cell_type": "code",
   "execution_count": 4,
   "metadata": {},
   "outputs": [
    {
     "data": {
      "text/html": [
       "<div>\n",
       "<style scoped>\n",
       "    .dataframe tbody tr th:only-of-type {\n",
       "        vertical-align: middle;\n",
       "    }\n",
       "\n",
       "    .dataframe tbody tr th {\n",
       "        vertical-align: top;\n",
       "    }\n",
       "\n",
       "    .dataframe thead th {\n",
       "        text-align: right;\n",
       "    }\n",
       "</style>\n",
       "<table border=\"1\" class=\"dataframe\">\n",
       "  <thead>\n",
       "    <tr style=\"text-align: right;\">\n",
       "      <th></th>\n",
       "      <th>open</th>\n",
       "      <th>high</th>\n",
       "      <th>low</th>\n",
       "      <th>close</th>\n",
       "    </tr>\n",
       "  </thead>\n",
       "  <tbody>\n",
       "    <tr>\n",
       "      <th>0</th>\n",
       "      <td>0.705354</td>\n",
       "      <td>0.725354</td>\n",
       "      <td>0.697980</td>\n",
       "      <td>0.701010</td>\n",
       "    </tr>\n",
       "    <tr>\n",
       "      <th>1</th>\n",
       "      <td>0.693636</td>\n",
       "      <td>0.701313</td>\n",
       "      <td>0.687273</td>\n",
       "      <td>0.693333</td>\n",
       "    </tr>\n",
       "    <tr>\n",
       "      <th>2</th>\n",
       "      <td>0.685960</td>\n",
       "      <td>0.688182</td>\n",
       "      <td>0.668687</td>\n",
       "      <td>0.684444</td>\n",
       "    </tr>\n",
       "    <tr>\n",
       "      <th>3</th>\n",
       "      <td>0.681717</td>\n",
       "      <td>0.682626</td>\n",
       "      <td>0.660707</td>\n",
       "      <td>0.663030</td>\n",
       "    </tr>\n",
       "    <tr>\n",
       "      <th>4</th>\n",
       "      <td>0.659596</td>\n",
       "      <td>0.660303</td>\n",
       "      <td>0.640101</td>\n",
       "      <td>0.653434</td>\n",
       "    </tr>\n",
       "    <tr>\n",
       "      <th>...</th>\n",
       "      <td>...</td>\n",
       "      <td>...</td>\n",
       "      <td>...</td>\n",
       "      <td>...</td>\n",
       "    </tr>\n",
       "    <tr>\n",
       "      <th>1483</th>\n",
       "      <td>0.354040</td>\n",
       "      <td>0.356566</td>\n",
       "      <td>0.347778</td>\n",
       "      <td>0.352929</td>\n",
       "    </tr>\n",
       "    <tr>\n",
       "      <th>1484</th>\n",
       "      <td>0.355152</td>\n",
       "      <td>0.359495</td>\n",
       "      <td>0.350707</td>\n",
       "      <td>0.354343</td>\n",
       "    </tr>\n",
       "    <tr>\n",
       "      <th>1485</th>\n",
       "      <td>0.358081</td>\n",
       "      <td>0.363939</td>\n",
       "      <td>0.351515</td>\n",
       "      <td>0.359293</td>\n",
       "    </tr>\n",
       "    <tr>\n",
       "      <th>1486</th>\n",
       "      <td>0.362727</td>\n",
       "      <td>0.370808</td>\n",
       "      <td>0.356263</td>\n",
       "      <td>0.370202</td>\n",
       "    </tr>\n",
       "    <tr>\n",
       "      <th>1487</th>\n",
       "      <td>0.371212</td>\n",
       "      <td>0.378889</td>\n",
       "      <td>0.365455</td>\n",
       "      <td>0.374444</td>\n",
       "    </tr>\n",
       "  </tbody>\n",
       "</table>\n",
       "<p>1488 rows × 4 columns</p>\n",
       "</div>"
      ],
      "text/plain": [
       "          open      high       low     close\n",
       "0     0.705354  0.725354  0.697980  0.701010\n",
       "1     0.693636  0.701313  0.687273  0.693333\n",
       "2     0.685960  0.688182  0.668687  0.684444\n",
       "3     0.681717  0.682626  0.660707  0.663030\n",
       "4     0.659596  0.660303  0.640101  0.653434\n",
       "...        ...       ...       ...       ...\n",
       "1483  0.354040  0.356566  0.347778  0.352929\n",
       "1484  0.355152  0.359495  0.350707  0.354343\n",
       "1485  0.358081  0.363939  0.351515  0.359293\n",
       "1486  0.362727  0.370808  0.356263  0.370202\n",
       "1487  0.371212  0.378889  0.365455  0.374444\n",
       "\n",
       "[1488 rows x 4 columns]"
      ]
     },
     "execution_count": 4,
     "metadata": {},
     "output_type": "execute_result"
    }
   ],
   "source": [
    "# MinMax Normalization\n",
    "maxValue = train_df.to_numpy().max()\n",
    "minValue = train_df.to_numpy().min()\n",
    "diff = maxValue - minValue\n",
    "train = train_df.transform(lambda x: (x - minValue) / diff)\n",
    "test = test_df.transform(lambda x: (x - minValue) / diff)\n",
    "train"
   ]
  },
  {
   "cell_type": "code",
   "execution_count": 5,
   "metadata": {},
   "outputs": [
    {
     "data": {
      "text/plain": [
       "open          0\n",
       "high          0\n",
       "low           0\n",
       "close         0\n",
       "upperband     4\n",
       "middleband    4\n",
       "lowerband     4\n",
       "sar           1\n",
       "rsi           5\n",
       "slowk         8\n",
       "slowd         8\n",
       "ema           4\n",
       "willr         8\n",
       "dtype: int64"
      ]
     },
     "execution_count": 5,
     "metadata": {},
     "output_type": "execute_result"
    }
   ],
   "source": [
    "train[\"upperband\"], train[\"middleband\"], train[\"lowerband\"] = BBANDS(train.close.to_numpy())\n",
    "train[\"sar\"] = SAR(train.high.to_numpy(), train.low.to_numpy())\n",
    "train[\"rsi\"] = RSI(train.close.to_numpy(), timeperiod=5)\n",
    "train[\"slowk\"], train[\"slowd\"] = STOCH(train.high.to_numpy(), train.low.to_numpy(), train.close.to_numpy())\n",
    "train[\"ema\"] = EMA(train.close.to_numpy(), timeperiod=5)\n",
    "train[\"willr\"] = WILLR(train.high.to_numpy(), train.low.to_numpy(), train.close.to_numpy(), timeperiod=9)\n",
    "train.isnull().sum()"
   ]
  },
  {
   "cell_type": "code",
   "execution_count": 6,
   "metadata": {},
   "outputs": [
    {
     "data": {
      "text/html": [
       "<div>\n",
       "<style scoped>\n",
       "    .dataframe tbody tr th:only-of-type {\n",
       "        vertical-align: middle;\n",
       "    }\n",
       "\n",
       "    .dataframe tbody tr th {\n",
       "        vertical-align: top;\n",
       "    }\n",
       "\n",
       "    .dataframe thead th {\n",
       "        text-align: right;\n",
       "    }\n",
       "</style>\n",
       "<table border=\"1\" class=\"dataframe\">\n",
       "  <thead>\n",
       "    <tr style=\"text-align: right;\">\n",
       "      <th></th>\n",
       "      <th>open</th>\n",
       "      <th>high</th>\n",
       "      <th>low</th>\n",
       "      <th>close</th>\n",
       "      <th>upperband</th>\n",
       "      <th>middleband</th>\n",
       "      <th>lowerband</th>\n",
       "      <th>sar</th>\n",
       "      <th>rsi</th>\n",
       "      <th>slowk</th>\n",
       "      <th>slowd</th>\n",
       "      <th>ema</th>\n",
       "      <th>willr</th>\n",
       "    </tr>\n",
       "  </thead>\n",
       "  <tbody>\n",
       "    <tr>\n",
       "      <th>0</th>\n",
       "      <td>0.632121</td>\n",
       "      <td>0.633434</td>\n",
       "      <td>0.610606</td>\n",
       "      <td>0.628889</td>\n",
       "      <td>0.669042</td>\n",
       "      <td>0.647333</td>\n",
       "      <td>0.625624</td>\n",
       "      <td>0.693245</td>\n",
       "      <td>10.760278</td>\n",
       "      <td>35.685147</td>\n",
       "      <td>30.969656</td>\n",
       "      <td>0.648791</td>\n",
       "      <td>-84.066901</td>\n",
       "    </tr>\n",
       "    <tr>\n",
       "      <th>1</th>\n",
       "      <td>0.641010</td>\n",
       "      <td>0.657576</td>\n",
       "      <td>0.630505</td>\n",
       "      <td>0.637374</td>\n",
       "      <td>0.666021</td>\n",
       "      <td>0.644121</td>\n",
       "      <td>0.622222</td>\n",
       "      <td>0.683329</td>\n",
       "      <td>24.037590</td>\n",
       "      <td>35.196490</td>\n",
       "      <td>34.271958</td>\n",
       "      <td>0.644985</td>\n",
       "      <td>-70.489978</td>\n",
       "    </tr>\n",
       "    <tr>\n",
       "      <th>2</th>\n",
       "      <td>0.635657</td>\n",
       "      <td>0.653535</td>\n",
       "      <td>0.632323</td>\n",
       "      <td>0.648182</td>\n",
       "      <td>0.665042</td>\n",
       "      <td>0.643636</td>\n",
       "      <td>0.622231</td>\n",
       "      <td>0.674602</td>\n",
       "      <td>38.586495</td>\n",
       "      <td>46.049189</td>\n",
       "      <td>38.976942</td>\n",
       "      <td>0.646051</td>\n",
       "      <td>-51.562500</td>\n",
       "    </tr>\n",
       "    <tr>\n",
       "      <th>3</th>\n",
       "      <td>0.655455</td>\n",
       "      <td>0.661212</td>\n",
       "      <td>0.640909</td>\n",
       "      <td>0.642626</td>\n",
       "      <td>0.653047</td>\n",
       "      <td>0.640000</td>\n",
       "      <td>0.626953</td>\n",
       "      <td>0.666922</td>\n",
       "      <td>34.358325</td>\n",
       "      <td>57.668859</td>\n",
       "      <td>46.304846</td>\n",
       "      <td>0.644909</td>\n",
       "      <td>-55.539972</td>\n",
       "    </tr>\n",
       "    <tr>\n",
       "      <th>4</th>\n",
       "      <td>0.695657</td>\n",
       "      <td>0.727980</td>\n",
       "      <td>0.685354</td>\n",
       "      <td>0.723434</td>\n",
       "      <td>0.724624</td>\n",
       "      <td>0.656101</td>\n",
       "      <td>0.587578</td>\n",
       "      <td>0.610606</td>\n",
       "      <td>78.063128</td>\n",
       "      <td>75.844229</td>\n",
       "      <td>59.854092</td>\n",
       "      <td>0.671084</td>\n",
       "      <td>-3.872633</td>\n",
       "    </tr>\n",
       "    <tr>\n",
       "      <th>...</th>\n",
       "      <td>...</td>\n",
       "      <td>...</td>\n",
       "      <td>...</td>\n",
       "      <td>...</td>\n",
       "      <td>...</td>\n",
       "      <td>...</td>\n",
       "      <td>...</td>\n",
       "      <td>...</td>\n",
       "      <td>...</td>\n",
       "      <td>...</td>\n",
       "      <td>...</td>\n",
       "      <td>...</td>\n",
       "      <td>...</td>\n",
       "    </tr>\n",
       "    <tr>\n",
       "      <th>1475</th>\n",
       "      <td>0.354040</td>\n",
       "      <td>0.356566</td>\n",
       "      <td>0.347778</td>\n",
       "      <td>0.352929</td>\n",
       "      <td>0.367668</td>\n",
       "      <td>0.344525</td>\n",
       "      <td>0.321382</td>\n",
       "      <td>0.302071</td>\n",
       "      <td>67.065605</td>\n",
       "      <td>87.132992</td>\n",
       "      <td>83.501390</td>\n",
       "      <td>0.345742</td>\n",
       "      <td>-9.775641</td>\n",
       "    </tr>\n",
       "    <tr>\n",
       "      <th>1476</th>\n",
       "      <td>0.355152</td>\n",
       "      <td>0.359495</td>\n",
       "      <td>0.350707</td>\n",
       "      <td>0.354343</td>\n",
       "      <td>0.361821</td>\n",
       "      <td>0.350606</td>\n",
       "      <td>0.339391</td>\n",
       "      <td>0.304352</td>\n",
       "      <td>68.454615</td>\n",
       "      <td>83.240226</td>\n",
       "      <td>84.920261</td>\n",
       "      <td>0.348609</td>\n",
       "      <td>-8.121019</td>\n",
       "    </tr>\n",
       "    <tr>\n",
       "      <th>1477</th>\n",
       "      <td>0.358081</td>\n",
       "      <td>0.363939</td>\n",
       "      <td>0.351515</td>\n",
       "      <td>0.359293</td>\n",
       "      <td>0.359533</td>\n",
       "      <td>0.354566</td>\n",
       "      <td>0.349598</td>\n",
       "      <td>0.307660</td>\n",
       "      <td>73.368544</td>\n",
       "      <td>78.956152</td>\n",
       "      <td>83.109790</td>\n",
       "      <td>0.352170</td>\n",
       "      <td>-6.845238</td>\n",
       "    </tr>\n",
       "    <tr>\n",
       "      <th>1478</th>\n",
       "      <td>0.362727</td>\n",
       "      <td>0.370808</td>\n",
       "      <td>0.356263</td>\n",
       "      <td>0.370202</td>\n",
       "      <td>0.371149</td>\n",
       "      <td>0.357798</td>\n",
       "      <td>0.344447</td>\n",
       "      <td>0.312163</td>\n",
       "      <td>81.365806</td>\n",
       "      <td>83.695902</td>\n",
       "      <td>81.964093</td>\n",
       "      <td>0.358181</td>\n",
       "      <td>-0.981997</td>\n",
       "    </tr>\n",
       "    <tr>\n",
       "      <th>1479</th>\n",
       "      <td>0.371212</td>\n",
       "      <td>0.378889</td>\n",
       "      <td>0.365455</td>\n",
       "      <td>0.374444</td>\n",
       "      <td>0.379449</td>\n",
       "      <td>0.362242</td>\n",
       "      <td>0.345036</td>\n",
       "      <td>0.318027</td>\n",
       "      <td>83.739458</td>\n",
       "      <td>85.497704</td>\n",
       "      <td>82.716586</td>\n",
       "      <td>0.363602</td>\n",
       "      <td>-7.885305</td>\n",
       "    </tr>\n",
       "  </tbody>\n",
       "</table>\n",
       "<p>1480 rows × 13 columns</p>\n",
       "</div>"
      ],
      "text/plain": [
       "          open      high       low     close  upperband  middleband  \\\n",
       "0     0.632121  0.633434  0.610606  0.628889   0.669042    0.647333   \n",
       "1     0.641010  0.657576  0.630505  0.637374   0.666021    0.644121   \n",
       "2     0.635657  0.653535  0.632323  0.648182   0.665042    0.643636   \n",
       "3     0.655455  0.661212  0.640909  0.642626   0.653047    0.640000   \n",
       "4     0.695657  0.727980  0.685354  0.723434   0.724624    0.656101   \n",
       "...        ...       ...       ...       ...        ...         ...   \n",
       "1475  0.354040  0.356566  0.347778  0.352929   0.367668    0.344525   \n",
       "1476  0.355152  0.359495  0.350707  0.354343   0.361821    0.350606   \n",
       "1477  0.358081  0.363939  0.351515  0.359293   0.359533    0.354566   \n",
       "1478  0.362727  0.370808  0.356263  0.370202   0.371149    0.357798   \n",
       "1479  0.371212  0.378889  0.365455  0.374444   0.379449    0.362242   \n",
       "\n",
       "      lowerband       sar        rsi      slowk      slowd       ema  \\\n",
       "0      0.625624  0.693245  10.760278  35.685147  30.969656  0.648791   \n",
       "1      0.622222  0.683329  24.037590  35.196490  34.271958  0.644985   \n",
       "2      0.622231  0.674602  38.586495  46.049189  38.976942  0.646051   \n",
       "3      0.626953  0.666922  34.358325  57.668859  46.304846  0.644909   \n",
       "4      0.587578  0.610606  78.063128  75.844229  59.854092  0.671084   \n",
       "...         ...       ...        ...        ...        ...       ...   \n",
       "1475   0.321382  0.302071  67.065605  87.132992  83.501390  0.345742   \n",
       "1476   0.339391  0.304352  68.454615  83.240226  84.920261  0.348609   \n",
       "1477   0.349598  0.307660  73.368544  78.956152  83.109790  0.352170   \n",
       "1478   0.344447  0.312163  81.365806  83.695902  81.964093  0.358181   \n",
       "1479   0.345036  0.318027  83.739458  85.497704  82.716586  0.363602   \n",
       "\n",
       "          willr  \n",
       "0    -84.066901  \n",
       "1    -70.489978  \n",
       "2    -51.562500  \n",
       "3    -55.539972  \n",
       "4     -3.872633  \n",
       "...         ...  \n",
       "1475  -9.775641  \n",
       "1476  -8.121019  \n",
       "1477  -6.845238  \n",
       "1478  -0.981997  \n",
       "1479  -7.885305  \n",
       "\n",
       "[1480 rows x 13 columns]"
      ]
     },
     "execution_count": 6,
     "metadata": {},
     "output_type": "execute_result"
    }
   ],
   "source": [
    "train_data = train.dropna()\n",
    "train_data = train_data.reset_index(drop=True)\n",
    "train_data"
   ]
  },
  {
   "cell_type": "markdown",
   "metadata": {},
   "source": [
    "## Training"
   ]
  },
  {
   "cell_type": "code",
   "execution_count": 7,
   "metadata": {},
   "outputs": [],
   "source": [
    "y = list()\n",
    "for i in range(len(train_data)):\n",
    "    isBull = (train_data[\"open\"][i] > train_data[\"sar\"][i], \n",
    "              train_data[\"open\"][i] >= train_data[\"middleband\"][i],\n",
    "              train_data[\"rsi\"][i] > 50,\n",
    "              train_data[\"slowk\"][i] >= train_data[\"slowd\"][i],\n",
    "              train_data[\"open\"][i] >= train_data[\"ema\"][i],\n",
    "              train_data[\"willr\"][i] > -50)\n",
    "    if np.count_nonzero(isBull) > 4:\n",
    "        y.append(2)\n",
    "    elif np.count_nonzero(isBull) < 2:\n",
    "        y.append(0)\n",
    "    else:\n",
    "        y.append(1)\n",
    "y = np.array(y, dtype=int)"
   ]
  },
  {
   "cell_type": "code",
   "execution_count": 8,
   "metadata": {},
   "outputs": [
    {
     "data": {
      "text/plain": [
       "array([[[  0.63212121,   0.63343434,   0.61060606, ...,  30.96965635,\n",
       "           0.64879112, -84.06690141],\n",
       "        [  0.6410101 ,   0.65757576,   0.63050505, ...,  34.27195808,\n",
       "           0.64498533, -70.48997773],\n",
       "        [  0.63565657,   0.65353535,   0.63232323, ...,  38.97694176,\n",
       "           0.64605082, -51.5625    ],\n",
       "        ...,\n",
       "        [  0.76646465,   0.77454545,   0.75585859, ...,  59.08550642,\n",
       "           0.76710405, -28.2245827 ],\n",
       "        [  0.7689899 ,   0.78343434,   0.76414141, ...,  57.61181757,\n",
       "           0.76806937, -25.49317147],\n",
       "        [  0.75616162,   0.76292929,   0.75131313, ...,  52.80309764,\n",
       "           0.76632234, -62.72965879]],\n",
       "\n",
       "       [[  0.6410101 ,   0.65757576,   0.63050505, ...,  34.27195808,\n",
       "           0.64498533, -70.48997773],\n",
       "        [  0.63565657,   0.65353535,   0.63232323, ...,  38.97694176,\n",
       "           0.64605082, -51.5625    ],\n",
       "        [  0.65545455,   0.66121212,   0.64090909, ...,  46.30484588,\n",
       "           0.6449093 , -55.53997195],\n",
       "        ...,\n",
       "        [  0.7689899 ,   0.78343434,   0.76414141, ...,  57.61181757,\n",
       "           0.76806937, -25.49317147],\n",
       "        [  0.75616162,   0.76292929,   0.75131313, ...,  52.80309764,\n",
       "           0.76632234, -62.72965879],\n",
       "        [  0.77181818,   0.77565657,   0.7559596 , ...,  49.00345555,\n",
       "           0.76583105, -62.03966006]],\n",
       "\n",
       "       [[  0.63565657,   0.65353535,   0.63232323, ...,  38.97694176,\n",
       "           0.64605082, -51.5625    ],\n",
       "        [  0.65545455,   0.66121212,   0.64090909, ...,  46.30484588,\n",
       "           0.6449093 , -55.53997195],\n",
       "        [  0.69565657,   0.7279798 ,   0.68535354, ...,  59.85409241,\n",
       "           0.67108432,  -3.87263339],\n",
       "        ...,\n",
       "        [  0.75616162,   0.76292929,   0.75131313, ...,  52.80309764,\n",
       "           0.76632234, -62.72965879],\n",
       "        [  0.77181818,   0.77565657,   0.7559596 , ...,  49.00345555,\n",
       "           0.76583105, -62.03966006],\n",
       "        [  0.75616162,   0.76464646,   0.74676768, ...,  43.37013983,\n",
       "           0.76415673, -61.70798898]],\n",
       "\n",
       "       ...,\n",
       "\n",
       "       [[  0.37232323,   0.38070707,   0.36171717, ...,   8.41942976,\n",
       "           0.38047175, -83.16326531],\n",
       "        [  0.37808081,   0.38414141,   0.36393939, ...,  13.80474471,\n",
       "           0.37876568, -86.2244898 ],\n",
       "        [  0.37575758,   0.38383838,   0.3730303 , ...,  24.56818656,\n",
       "           0.37752729, -86.53061224],\n",
       "        ...,\n",
       "        [  0.35454545,   0.35848485,   0.34777778, ...,  77.47296347,\n",
       "           0.34214777, -10.8974359 ],\n",
       "        [  0.3540404 ,   0.35656566,   0.34777778, ...,  83.50138974,\n",
       "           0.34574161,  -9.77564103],\n",
       "        [  0.35515152,   0.35949495,   0.35070707, ...,  84.9202614 ,\n",
       "           0.34860889,  -8.12101911]],\n",
       "\n",
       "       [[  0.37808081,   0.38414141,   0.36393939, ...,  13.80474471,\n",
       "           0.37876568, -86.2244898 ],\n",
       "        [  0.37575758,   0.38383838,   0.3730303 , ...,  24.56818656,\n",
       "           0.37752729, -86.53061224],\n",
       "        [  0.37656566,   0.37969697,   0.36373737, ...,  33.80658542,\n",
       "           0.37441213, -93.46938776],\n",
       "        ...,\n",
       "        [  0.3540404 ,   0.35656566,   0.34777778, ...,  83.50138974,\n",
       "           0.34574161,  -9.77564103],\n",
       "        [  0.35515152,   0.35949495,   0.35070707, ...,  84.9202614 ,\n",
       "           0.34860889,  -8.12101911],\n",
       "        [  0.35808081,   0.36393939,   0.35151515, ...,  83.10979012,\n",
       "           0.35217023,  -6.8452381 ]],\n",
       "\n",
       "       [[  0.37575758,   0.38383838,   0.3730303 , ...,  24.56818656,\n",
       "           0.37752729, -86.53061224],\n",
       "        [  0.37656566,   0.37969697,   0.36373737, ...,  33.80658542,\n",
       "           0.37441213, -93.46938776],\n",
       "        [  0.36888889,   0.36939394,   0.34939394, ...,  35.77388127,\n",
       "           0.36637576, -98.90377588],\n",
       "        ...,\n",
       "        [  0.35515152,   0.35949495,   0.35070707, ...,  84.9202614 ,\n",
       "           0.34860889,  -8.12101911],\n",
       "        [  0.35808081,   0.36393939,   0.35151515, ...,  83.10979012,\n",
       "           0.35217023,  -6.8452381 ],\n",
       "        [  0.36272727,   0.37080808,   0.35626263, ...,  81.96409334,\n",
       "           0.35818083,  -0.98199673]]])"
      ]
     },
     "execution_count": 8,
     "metadata": {},
     "output_type": "execute_result"
    }
   ],
   "source": [
    "X = list()\n",
    "for i in range(n_days_in, len(train_data)):\n",
    "    X.append(train_data.loc[i-n_days_in:i-1, :].values)\n",
    "X = np.array(X)\n",
    "X"
   ]
  },
  {
   "cell_type": "code",
   "execution_count": 9,
   "metadata": {},
   "outputs": [
    {
     "data": {
      "text/plain": [
       "1440"
      ]
     },
     "execution_count": 9,
     "metadata": {},
     "output_type": "execute_result"
    }
   ],
   "source": [
    "y = y[n_days_in + n_days_out :]\n",
    "len(y)"
   ]
  },
  {
   "cell_type": "code",
   "execution_count": 10,
   "metadata": {},
   "outputs": [
    {
     "data": {
      "text/plain": [
       "20"
      ]
     },
     "execution_count": 10,
     "metadata": {},
     "output_type": "execute_result"
    }
   ],
   "source": [
    "test = X[-len(test_df):]\n",
    "len(test)"
   ]
  },
  {
   "cell_type": "code",
   "execution_count": 11,
   "metadata": {},
   "outputs": [],
   "source": [
    "new_X = X[:-len(test_df)]\n",
    "\n",
    "new_X = new_X.reshape((len(y), -1))"
   ]
  },
  {
   "cell_type": "code",
   "execution_count": 12,
   "metadata": {},
   "outputs": [
    {
     "data": {
      "text/plain": [
       "(1440, 260)"
      ]
     },
     "execution_count": 12,
     "metadata": {},
     "output_type": "execute_result"
    }
   ],
   "source": [
    "new_X.shape"
   ]
  },
  {
   "cell_type": "code",
   "execution_count": 13,
   "metadata": {},
   "outputs": [],
   "source": [
    "X_train, X_val, y_train, y_val = train_test_split(new_X, y, test_size=0.2, shuffle=False)"
   ]
  },
  {
   "cell_type": "code",
   "execution_count": 14,
   "metadata": {},
   "outputs": [],
   "source": [
    "xgb = XGBClassifier(learning_rate=0.1, \n",
    "                    objective='multi:softmax',\n",
    "                    num_class=3,\n",
    "                    n_estimators=1000, max_depth=1, min_child_weight=2, use_label_encoder=False)\n",
    "# model = xgb.fit(X_train, y_train,\n",
    "#                eval_set=[(X_val, y_val)],\n",
    "#               eval_metric=\"auc\",\n",
    "#                verbose=True)"
   ]
  },
  {
   "cell_type": "code",
   "execution_count": 15,
   "metadata": {},
   "outputs": [
    {
     "name": "stderr",
     "output_type": "stream",
     "text": [
      "/opt/anaconda3/envs/python3_8/lib/python3.8/site-packages/sklearn/model_selection/_validation.py:770: UserWarning: Scoring failed. The score on this train-test partition for these parameters will be set to nan. Details: \n",
      "Traceback (most recent call last):\n",
      "  File \"/opt/anaconda3/envs/python3_8/lib/python3.8/site-packages/sklearn/model_selection/_validation.py\", line 761, in _score\n",
      "    scores = scorer(estimator, X_test, y_test)\n",
      "  File \"/opt/anaconda3/envs/python3_8/lib/python3.8/site-packages/sklearn/metrics/_scorer.py\", line 216, in __call__\n",
      "    return self._score(\n",
      "  File \"/opt/anaconda3/envs/python3_8/lib/python3.8/site-packages/sklearn/metrics/_scorer.py\", line 264, in _score\n",
      "    return self._sign * self._score_func(y_true, y_pred, **self._kwargs)\n",
      "  File \"/opt/anaconda3/envs/python3_8/lib/python3.8/site-packages/sklearn/metrics/_classification.py\", line 1123, in f1_score\n",
      "    return fbeta_score(\n",
      "  File \"/opt/anaconda3/envs/python3_8/lib/python3.8/site-packages/sklearn/metrics/_classification.py\", line 1261, in fbeta_score\n",
      "    _, _, f, _ = precision_recall_fscore_support(\n",
      "  File \"/opt/anaconda3/envs/python3_8/lib/python3.8/site-packages/sklearn/metrics/_classification.py\", line 1544, in precision_recall_fscore_support\n",
      "    labels = _check_set_wise_labels(y_true, y_pred, average, labels, pos_label)\n",
      "  File \"/opt/anaconda3/envs/python3_8/lib/python3.8/site-packages/sklearn/metrics/_classification.py\", line 1365, in _check_set_wise_labels\n",
      "    raise ValueError(\n",
      "ValueError: Target is multiclass but average='binary'. Please choose another average setting, one of [None, 'micro', 'macro', 'weighted'].\n",
      "\n",
      "  warnings.warn(\n",
      "/opt/anaconda3/envs/python3_8/lib/python3.8/site-packages/sklearn/model_selection/_validation.py:770: UserWarning: Scoring failed. The score on this train-test partition for these parameters will be set to nan. Details: \n",
      "Traceback (most recent call last):\n",
      "  File \"/opt/anaconda3/envs/python3_8/lib/python3.8/site-packages/sklearn/model_selection/_validation.py\", line 761, in _score\n",
      "    scores = scorer(estimator, X_test, y_test)\n",
      "  File \"/opt/anaconda3/envs/python3_8/lib/python3.8/site-packages/sklearn/metrics/_scorer.py\", line 216, in __call__\n",
      "    return self._score(\n",
      "  File \"/opt/anaconda3/envs/python3_8/lib/python3.8/site-packages/sklearn/metrics/_scorer.py\", line 264, in _score\n",
      "    return self._sign * self._score_func(y_true, y_pred, **self._kwargs)\n",
      "  File \"/opt/anaconda3/envs/python3_8/lib/python3.8/site-packages/sklearn/metrics/_classification.py\", line 1123, in f1_score\n",
      "    return fbeta_score(\n",
      "  File \"/opt/anaconda3/envs/python3_8/lib/python3.8/site-packages/sklearn/metrics/_classification.py\", line 1261, in fbeta_score\n",
      "    _, _, f, _ = precision_recall_fscore_support(\n",
      "  File \"/opt/anaconda3/envs/python3_8/lib/python3.8/site-packages/sklearn/metrics/_classification.py\", line 1544, in precision_recall_fscore_support\n",
      "    labels = _check_set_wise_labels(y_true, y_pred, average, labels, pos_label)\n",
      "  File \"/opt/anaconda3/envs/python3_8/lib/python3.8/site-packages/sklearn/metrics/_classification.py\", line 1365, in _check_set_wise_labels\n",
      "    raise ValueError(\n",
      "ValueError: Target is multiclass but average='binary'. Please choose another average setting, one of [None, 'micro', 'macro', 'weighted'].\n",
      "\n",
      "  warnings.warn(\n",
      "/opt/anaconda3/envs/python3_8/lib/python3.8/site-packages/sklearn/model_selection/_validation.py:770: UserWarning: Scoring failed. The score on this train-test partition for these parameters will be set to nan. Details: \n",
      "Traceback (most recent call last):\n",
      "  File \"/opt/anaconda3/envs/python3_8/lib/python3.8/site-packages/sklearn/model_selection/_validation.py\", line 761, in _score\n",
      "    scores = scorer(estimator, X_test, y_test)\n",
      "  File \"/opt/anaconda3/envs/python3_8/lib/python3.8/site-packages/sklearn/metrics/_scorer.py\", line 216, in __call__\n",
      "    return self._score(\n",
      "  File \"/opt/anaconda3/envs/python3_8/lib/python3.8/site-packages/sklearn/metrics/_scorer.py\", line 264, in _score\n",
      "    return self._sign * self._score_func(y_true, y_pred, **self._kwargs)\n",
      "  File \"/opt/anaconda3/envs/python3_8/lib/python3.8/site-packages/sklearn/metrics/_classification.py\", line 1123, in f1_score\n",
      "    return fbeta_score(\n",
      "  File \"/opt/anaconda3/envs/python3_8/lib/python3.8/site-packages/sklearn/metrics/_classification.py\", line 1261, in fbeta_score\n",
      "    _, _, f, _ = precision_recall_fscore_support(\n",
      "  File \"/opt/anaconda3/envs/python3_8/lib/python3.8/site-packages/sklearn/metrics/_classification.py\", line 1544, in precision_recall_fscore_support\n",
      "    labels = _check_set_wise_labels(y_true, y_pred, average, labels, pos_label)\n",
      "  File \"/opt/anaconda3/envs/python3_8/lib/python3.8/site-packages/sklearn/metrics/_classification.py\", line 1365, in _check_set_wise_labels\n",
      "    raise ValueError(\n",
      "ValueError: Target is multiclass but average='binary'. Please choose another average setting, one of [None, 'micro', 'macro', 'weighted'].\n",
      "\n",
      "  warnings.warn(\n",
      "/opt/anaconda3/envs/python3_8/lib/python3.8/site-packages/sklearn/model_selection/_validation.py:770: UserWarning: Scoring failed. The score on this train-test partition for these parameters will be set to nan. Details: \n",
      "Traceback (most recent call last):\n",
      "  File \"/opt/anaconda3/envs/python3_8/lib/python3.8/site-packages/sklearn/model_selection/_validation.py\", line 761, in _score\n",
      "    scores = scorer(estimator, X_test, y_test)\n",
      "  File \"/opt/anaconda3/envs/python3_8/lib/python3.8/site-packages/sklearn/metrics/_scorer.py\", line 216, in __call__\n",
      "    return self._score(\n",
      "  File \"/opt/anaconda3/envs/python3_8/lib/python3.8/site-packages/sklearn/metrics/_scorer.py\", line 264, in _score\n",
      "    return self._sign * self._score_func(y_true, y_pred, **self._kwargs)\n",
      "  File \"/opt/anaconda3/envs/python3_8/lib/python3.8/site-packages/sklearn/metrics/_classification.py\", line 1123, in f1_score\n",
      "    return fbeta_score(\n",
      "  File \"/opt/anaconda3/envs/python3_8/lib/python3.8/site-packages/sklearn/metrics/_classification.py\", line 1261, in fbeta_score\n",
      "    _, _, f, _ = precision_recall_fscore_support(\n",
      "  File \"/opt/anaconda3/envs/python3_8/lib/python3.8/site-packages/sklearn/metrics/_classification.py\", line 1544, in precision_recall_fscore_support\n",
      "    labels = _check_set_wise_labels(y_true, y_pred, average, labels, pos_label)\n",
      "  File \"/opt/anaconda3/envs/python3_8/lib/python3.8/site-packages/sklearn/metrics/_classification.py\", line 1365, in _check_set_wise_labels\n",
      "    raise ValueError(\n",
      "ValueError: Target is multiclass but average='binary'. Please choose another average setting, one of [None, 'micro', 'macro', 'weighted'].\n",
      "\n",
      "  warnings.warn(\n",
      "/opt/anaconda3/envs/python3_8/lib/python3.8/site-packages/sklearn/model_selection/_validation.py:770: UserWarning: Scoring failed. The score on this train-test partition for these parameters will be set to nan. Details: \n",
      "Traceback (most recent call last):\n",
      "  File \"/opt/anaconda3/envs/python3_8/lib/python3.8/site-packages/sklearn/model_selection/_validation.py\", line 761, in _score\n",
      "    scores = scorer(estimator, X_test, y_test)\n",
      "  File \"/opt/anaconda3/envs/python3_8/lib/python3.8/site-packages/sklearn/metrics/_scorer.py\", line 216, in __call__\n",
      "    return self._score(\n",
      "  File \"/opt/anaconda3/envs/python3_8/lib/python3.8/site-packages/sklearn/metrics/_scorer.py\", line 264, in _score\n",
      "    return self._sign * self._score_func(y_true, y_pred, **self._kwargs)\n",
      "  File \"/opt/anaconda3/envs/python3_8/lib/python3.8/site-packages/sklearn/metrics/_classification.py\", line 1123, in f1_score\n",
      "    return fbeta_score(\n",
      "  File \"/opt/anaconda3/envs/python3_8/lib/python3.8/site-packages/sklearn/metrics/_classification.py\", line 1261, in fbeta_score\n",
      "    _, _, f, _ = precision_recall_fscore_support(\n",
      "  File \"/opt/anaconda3/envs/python3_8/lib/python3.8/site-packages/sklearn/metrics/_classification.py\", line 1544, in precision_recall_fscore_support\n",
      "    labels = _check_set_wise_labels(y_true, y_pred, average, labels, pos_label)\n",
      "  File \"/opt/anaconda3/envs/python3_8/lib/python3.8/site-packages/sklearn/metrics/_classification.py\", line 1365, in _check_set_wise_labels\n",
      "    raise ValueError(\n",
      "ValueError: Target is multiclass but average='binary'. Please choose another average setting, one of [None, 'micro', 'macro', 'weighted'].\n",
      "\n",
      "  warnings.warn(\n",
      "/opt/anaconda3/envs/python3_8/lib/python3.8/site-packages/sklearn/model_selection/_validation.py:770: UserWarning: Scoring failed. The score on this train-test partition for these parameters will be set to nan. Details: \n",
      "Traceback (most recent call last):\n",
      "  File \"/opt/anaconda3/envs/python3_8/lib/python3.8/site-packages/sklearn/model_selection/_validation.py\", line 761, in _score\n",
      "    scores = scorer(estimator, X_test, y_test)\n",
      "  File \"/opt/anaconda3/envs/python3_8/lib/python3.8/site-packages/sklearn/metrics/_scorer.py\", line 216, in __call__\n",
      "    return self._score(\n",
      "  File \"/opt/anaconda3/envs/python3_8/lib/python3.8/site-packages/sklearn/metrics/_scorer.py\", line 264, in _score\n",
      "    return self._sign * self._score_func(y_true, y_pred, **self._kwargs)\n",
      "  File \"/opt/anaconda3/envs/python3_8/lib/python3.8/site-packages/sklearn/metrics/_classification.py\", line 1123, in f1_score\n",
      "    return fbeta_score(\n",
      "  File \"/opt/anaconda3/envs/python3_8/lib/python3.8/site-packages/sklearn/metrics/_classification.py\", line 1261, in fbeta_score\n",
      "    _, _, f, _ = precision_recall_fscore_support(\n",
      "  File \"/opt/anaconda3/envs/python3_8/lib/python3.8/site-packages/sklearn/metrics/_classification.py\", line 1544, in precision_recall_fscore_support\n",
      "    labels = _check_set_wise_labels(y_true, y_pred, average, labels, pos_label)\n",
      "  File \"/opt/anaconda3/envs/python3_8/lib/python3.8/site-packages/sklearn/metrics/_classification.py\", line 1365, in _check_set_wise_labels\n",
      "    raise ValueError(\n",
      "ValueError: Target is multiclass but average='binary'. Please choose another average setting, one of [None, 'micro', 'macro', 'weighted'].\n",
      "\n",
      "  warnings.warn(\n"
     ]
    }
   ],
   "source": [
    "parameters = {\n",
    "    'max_depth': list(range(1, 10)),\n",
    "    'min_child_weight': list(range(1, 10)),\n",
    "    \"n_estimators\": list(range(100, 1001, 100))\n",
    "}\n",
    "# gsearch = GridSearchCV(xgb, param_grid=parameters, scoring=\"f1\", cv=2)\n",
    "# gsearch.fit(X_train, y_train,  eval_set=[(X_val, y_val)], eval_metric=\"auc\", verbose=True)\n",
    "# best_parameters = gsearch.best_estimator_.get_params()\n",
    "rsearch = RandomizedSearchCV(xgb, param_distributions=parameters, scoring=\"f1\", cv=2)\n",
    "rsearch.fit(X_train, y_train,  eval_set=[(X_val, y_val)], eval_metric=\"auc\", verbose=False)\n",
    "best_parameters = rsearch.best_estimator_.get_params()"
   ]
  },
  {
   "cell_type": "code",
   "execution_count": null,
   "metadata": {},
   "outputs": [
    {
     "name": "stdout",
     "output_type": "stream",
     "text": [
      "{'objective': 'multi:softprob', 'use_label_encoder': False, 'base_score': 0.5, 'booster': 'gbtree', 'colsample_bylevel': 1, 'colsample_bynode': 1, 'colsample_bytree': 1, 'enable_categorical': False, 'gamma': 0, 'gpu_id': -1, 'importance_type': None, 'interaction_constraints': '', 'learning_rate': 0.1, 'max_delta_step': 0, 'max_depth': 2, 'min_child_weight': 3, 'missing': nan, 'monotone_constraints': '()', 'n_estimators': 500, 'n_jobs': 8, 'num_parallel_tree': 1, 'predictor': 'auto', 'random_state': 0, 'reg_alpha': 0, 'reg_lambda': 1, 'scale_pos_weight': None, 'subsample': 1, 'tree_method': 'exact', 'validate_parameters': 1, 'verbosity': None, 'num_class': 3}\n"
     ]
    }
   ],
   "source": [
    "print(best_parameters)"
   ]
  },
  {
   "cell_type": "code",
   "execution_count": null,
   "metadata": {},
   "outputs": [
    {
     "name": "stdout",
     "output_type": "stream",
     "text": [
      "[0]\tvalidation_0-mlogloss:1.09864\n",
      "[1]\tvalidation_0-mlogloss:1.10022\n",
      "[2]\tvalidation_0-mlogloss:1.10243\n",
      "[3]\tvalidation_0-mlogloss:1.10245\n",
      "[4]\tvalidation_0-mlogloss:1.10389\n",
      "[5]\tvalidation_0-mlogloss:1.10473\n",
      "[6]\tvalidation_0-mlogloss:1.10708\n",
      "[7]\tvalidation_0-mlogloss:1.10828\n",
      "[8]\tvalidation_0-mlogloss:1.10810\n",
      "[9]\tvalidation_0-mlogloss:1.10996\n",
      "[10]\tvalidation_0-mlogloss:1.10929\n",
      "[11]\tvalidation_0-mlogloss:1.11130\n",
      "[12]\tvalidation_0-mlogloss:1.11109\n",
      "[13]\tvalidation_0-mlogloss:1.11344\n",
      "[14]\tvalidation_0-mlogloss:1.11421\n",
      "[15]\tvalidation_0-mlogloss:1.11624\n",
      "[16]\tvalidation_0-mlogloss:1.11746\n",
      "[17]\tvalidation_0-mlogloss:1.11796\n",
      "[18]\tvalidation_0-mlogloss:1.12061\n",
      "[19]\tvalidation_0-mlogloss:1.12049\n",
      "[20]\tvalidation_0-mlogloss:1.12248\n",
      "[21]\tvalidation_0-mlogloss:1.12356\n",
      "[22]\tvalidation_0-mlogloss:1.12440\n",
      "[23]\tvalidation_0-mlogloss:1.12404\n",
      "[24]\tvalidation_0-mlogloss:1.12652\n",
      "[25]\tvalidation_0-mlogloss:1.12703\n",
      "[26]\tvalidation_0-mlogloss:1.12935\n",
      "[27]\tvalidation_0-mlogloss:1.13017\n",
      "[28]\tvalidation_0-mlogloss:1.12998\n",
      "[29]\tvalidation_0-mlogloss:1.13235\n"
     ]
    }
   ],
   "source": [
    "xgb = XGBClassifier(learning_rate=0.1, n_estimators=30,\n",
    "                    objective='multi:softmax',\n",
    "                    num_class=3,\n",
    "                    max_depth=3, min_child_weight=10, use_label_encoder=False)\n",
    "model = xgb.fit(X_train, y_train,\n",
    "                eval_set=[(X_val, y_val)],\n",
    "                eval_metric=\"mlogloss\",\n",
    "                verbose=True)"
   ]
  },
  {
   "cell_type": "code",
   "execution_count": null,
   "metadata": {},
   "outputs": [
    {
     "data": {
      "text/plain": [
       "array([1, 1, 2, 1, 1, 1, 2, 2, 2, 2, 1, 1, 2, 1, 2, 0, 2, 2, 0, 0])"
      ]
     },
     "execution_count": 18,
     "metadata": {},
     "output_type": "execute_result"
    }
   ],
   "source": [
    "model.predict(test.reshape(20, -1))"
   ]
  },
  {
   "cell_type": "code",
   "execution_count": null,
   "metadata": {},
   "outputs": [],
   "source": []
  },
  {
   "cell_type": "code",
   "execution_count": null,
   "metadata": {},
   "outputs": [
    {
     "ename": "AttributeError",
     "evalue": "'numpy.ndarray' object has no attribute 'close'",
     "output_type": "error",
     "traceback": [
      "\u001b[0;31m---------------------------------------------------------------------------\u001b[0m",
      "\u001b[0;31mAttributeError\u001b[0m                            Traceback (most recent call last)",
      "\u001b[1;32m/Users/rewoptu/Desktop/Data/Trading-Helper/xgclassifier.ipynb Cell 24'\u001b[0m in \u001b[0;36m<cell line: 1>\u001b[0;34m()\u001b[0m\n\u001b[0;32m----> <a href='vscode-notebook-cell:/Users/rewoptu/Desktop/Data/Trading-Helper/xgclassifier.ipynb#ch0000022?line=0'>1</a>\u001b[0m test[\u001b[39m\"\u001b[39m\u001b[39mupperband\u001b[39m\u001b[39m\"\u001b[39m], test[\u001b[39m\"\u001b[39m\u001b[39mmiddleband\u001b[39m\u001b[39m\"\u001b[39m], test[\u001b[39m\"\u001b[39m\u001b[39mlowerband\u001b[39m\u001b[39m\"\u001b[39m] \u001b[39m=\u001b[39m BBANDS(test\u001b[39m.\u001b[39;49mclose\u001b[39m.\u001b[39mto_numpy())\n\u001b[1;32m      <a href='vscode-notebook-cell:/Users/rewoptu/Desktop/Data/Trading-Helper/xgclassifier.ipynb#ch0000022?line=1'>2</a>\u001b[0m \u001b[39m# train[\"ma5\"] = MA(train.close.to_numpy(), timeperiod=5)\u001b[39;00m\n\u001b[1;32m      <a href='vscode-notebook-cell:/Users/rewoptu/Desktop/Data/Trading-Helper/xgclassifier.ipynb#ch0000022?line=2'>3</a>\u001b[0m test[\u001b[39m\"\u001b[39m\u001b[39msar\u001b[39m\u001b[39m\"\u001b[39m] \u001b[39m=\u001b[39m SAR(test\u001b[39m.\u001b[39mhigh\u001b[39m.\u001b[39mto_numpy(), test\u001b[39m.\u001b[39mlow\u001b[39m.\u001b[39mto_numpy())\n",
      "\u001b[0;31mAttributeError\u001b[0m: 'numpy.ndarray' object has no attribute 'close'"
     ]
    }
   ],
   "source": [
    "test[\"upperband\"], test[\"middleband\"], test[\"lowerband\"] = BBANDS(test.close.to_numpy())\n",
    "# train[\"ma5\"] = MA(train.close.to_numpy(), timeperiod=5)\n",
    "test[\"sar\"] = SAR(test.high.to_numpy(), test.low.to_numpy())\n",
    "test[\"rsi\"] = RSI(test.close.to_numpy(), timeperiod=5)\n",
    "test[\"slowk\"], test[\"slowd\"] = STOCH(test.high.to_numpy(), test.low.to_numpy(), test.close.to_numpy())"
   ]
  },
  {
   "cell_type": "code",
   "execution_count": null,
   "metadata": {},
   "outputs": [],
   "source": [
    "predictions = model.predict(test.values)\n",
    "len(predictions)"
   ]
  },
  {
   "cell_type": "code",
   "execution_count": null,
   "metadata": {},
   "outputs": [],
   "source": [
    "ans = []\n",
    "val = 0\n",
    "for i in range(1, len(predictions)):\n",
    "    _sum = sum(predictions[i-1:i+1])\n",
    "    if _sum == 2:\n",
    "        val = 1 if (val == 1) else (val + 1) \n",
    "    elif _sum == 1:\n",
    "        val = val\n",
    "    else:\n",
    "        val = -1 if (val == -1) else val - 1\n",
    "    ans.append(val)\n",
    "print(ans, len(ans), sep='\\n\\n')\n",
    "with open(\"./output.csv\", \"w\") as fp:\n",
    "    for i in range(len(ans)):\n",
    "        print(ans[i], file=fp)"
   ]
  }
 ],
 "metadata": {
  "interpreter": {
   "hash": "40d3a090f54c6569ab1632332b64b2c03c39dcf918b08424e98f38b5ae0af88f"
  },
  "kernelspec": {
   "display_name": "Python 3.8.5 ('base')",
   "language": "python",
   "name": "python3"
  },
  "language_info": {
   "codemirror_mode": {
    "name": "ipython",
    "version": 3
   },
   "file_extension": ".py",
   "mimetype": "text/x-python",
   "name": "python",
   "nbconvert_exporter": "python",
   "pygments_lexer": "ipython3",
   "version": "3.8.13"
  },
  "orig_nbformat": 4
 },
 "nbformat": 4,
 "nbformat_minor": 2
}
