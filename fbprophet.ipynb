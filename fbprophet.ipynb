{
 "cells": [
  {
   "cell_type": "code",
   "execution_count": null,
   "metadata": {},
   "outputs": [],
   "source": [
    "# Standard libraries\n",
    "import pandas as pd\n",
    "import numpy as np\n",
    "import seaborn as sns\n",
    "import Prophet\n",
    "import matplotlib.pyplot as plt"
   ]
  },
  {
   "cell_type": "code",
   "execution_count": null,
   "metadata": {},
   "outputs": [],
   "source": [
    "train_df = pd.read_csv(\"training.csv\", names=(\"open\", \"high\", \"low\", \"close\"))\n",
    "test_df = pd.read_csv(\"testing.csv\", names=(\"open\", \"high\", \"low\", \"close\"))\n",
    "len(test_df)"
   ]
  },
  {
   "cell_type": "code",
   "execution_count": null,
   "metadata": {},
   "outputs": [],
   "source": [
    "# MinMax Normalization\n",
    "maxValue = train_df.to_numpy().max()\n",
    "minValue = train_df.to_numpy().min()\n",
    "diff = maxValue - minValue\n",
    "# train = train_df.transform(lambda x: (x - minValue) / diff)\n",
    "# test = test_df.transform(lambda x: (x - minValue) / diff)\n",
    "# train = pd.concat([train_df, test_df], axis=0)\n",
    "# train = train.reset_index(drop=True)\n",
    "train = train_df"
   ]
  },
  {
   "cell_type": "markdown",
   "metadata": {},
   "source": [
    "## Training"
   ]
  },
  {
   "cell_type": "code",
   "execution_count": null,
   "metadata": {},
   "outputs": [],
   "source": [
    "train['ds'] = pd.date_range(start='1/1/1979', periods = len(train), freq = 'D')\n",
    "train.rename(columns={'open': 'y'}, inplace=True)\n",
    "train"
   ]
  },
  {
   "cell_type": "code",
   "execution_count": null,
   "metadata": {},
   "outputs": [],
   "source": [
    "model = Prophet(daily_seasonality=False, \n",
    "                yearly_seasonality=True, \n",
    "                weekly_seasonality=True,\n",
    "                changepoint_range=0.55,\n",
    "                seasonality_mode='additive'\n",
    "                interval_width=0.9)\n",
    "for regressor in ['high', 'low', 'close']:\n",
    "    model.add_regressor(regressor, standardized='False')\n",
    "model.fit(train)"
   ]
  }
 ],
 "metadata": {
  "language_info": {
   "name": "python"
  },
  "orig_nbformat": 4
 },
 "nbformat": 4,
 "nbformat_minor": 2
}
